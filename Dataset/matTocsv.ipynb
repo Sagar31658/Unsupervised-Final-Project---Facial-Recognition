{
 "cells": [
  {
   "cell_type": "code",
   "execution_count": 8,
   "metadata": {},
   "outputs": [],
   "source": [
    "import scipy.io\n",
    "import pandas as pd\n",
    "import numpy as np\n",
    "\n",
    "mat_data = scipy.io.loadmat('./umist_cropped.mat')\n",
    "facedat = mat_data['facedat']\n",
    "dirnames = mat_data['dirnames']\n",
    "\n",
    "labels = [str(dirname[0]) for dirname in dirnames.flatten()]\n",
    "data = []\n",
    "for i in range(facedat.shape[1]):\n",
    "    person_images = facedat[0, i]\n",
    "    person_label = labels[i]\n",
    "\n",
    "    for j in range(person_images.shape[2]):\n",
    "        image = person_images[:, :, j].flatten().astype(float)\n",
    "        data.append([person_label] + list(image))\n",
    "\n",
    "columns = ['label'] + [f'pixel_{i}' for i in range(person_images.shape[0] * person_images.shape[1])]\n",
    "df = pd.DataFrame(data, columns=columns)\n",
    "\n",
    "csv_path = './umist_faces.csv'\n",
    "df.to_csv(csv_path, index=False)\n"
   ]
  },
  {
   "cell_type": "code",
   "execution_count": null,
   "metadata": {},
   "outputs": [],
   "source": []
  }
 ],
 "metadata": {
  "kernelspec": {
   "display_name": "base",
   "language": "python",
   "name": "python3"
  },
  "language_info": {
   "codemirror_mode": {
    "name": "ipython",
    "version": 3
   },
   "file_extension": ".py",
   "mimetype": "text/x-python",
   "name": "python",
   "nbconvert_exporter": "python",
   "pygments_lexer": "ipython3",
   "version": "3.11.7"
  }
 },
 "nbformat": 4,
 "nbformat_minor": 2
}
